{
 "cells": [
  {
   "cell_type": "code",
   "execution_count": 1,
   "id": "7cab97b2",
   "metadata": {},
   "outputs": [],
   "source": [
    "import requests\n",
    "import matplotlib.pyplot as plt\n",
    "import pandas as pd\n",
    "%matplotlib inline"
   ]
  },
  {
   "cell_type": "code",
   "execution_count": 2,
   "id": "792af75d",
   "metadata": {},
   "outputs": [],
   "source": [
    "# government mandates\n",
    "g_orders = '../data/U.S._State_and_Territorial_Gathering_Bans__March_11__2020-August_15__2021_by_County_by_Day.csv'\n",
    "b_orders = '../data/U.S._State_and_Territorial_Orders_Closing_and_Reopening_Bars_Issued_from_March_11__2020_through_August_15__2021_by_County_by_Day.csv'\n",
    "r_orders = '../data/U.S._State_and_Territorial_Orders_Closing_and_Reopening_Restaurants_Issued_from_March_11__2020_through_August_15__2021_by_County_by_Day.csv'\n",
    "m_orders = '../data/U.S._State_and_Territorial_Public_Mask_Mandates_From_April_10__2020_through_August_15__2021_by_County_by_Day.csv'\n",
    "h_orders = '../data/U.S._State_and_Territorial_Stay-At-Home_Orders__March_15__2020___August_15__2021_by_County_by_Day.csv'\n",
    "\n",
    "# gathering bans\n",
    "gathering_orders = pd.read_csv(g_orders, dtype={'State_Tribe_Territory': 'string', 'County_Name': 'string', \n",
    "                                                'FIPS_State': int, 'FIPS_County': int, 'date': 'string', \n",
    "                                                'General_GB_order_group': 'string', 'General_GB_order_code': 'string',\n",
    "                                                'General_or_Under_6ft_Bans_Gatherings_Over': 'string', \n",
    "                                                'Express_Preemption': 'string', 'Indoor_Outdoor': 'string', \n",
    "                                                'Source_of_Action': 'string', 'URL': 'string', 'Citation': 'string'})\n",
    "\n",
    "# bar closures\n",
    "bar_orders = pd.read_csv(b_orders, dtype={'State_Tribe_Territory': 'string', 'County_Name': 'string', 'FIPS_State': int, \n",
    "                                          'FIPS_County': int, 'date': 'string', 'Business_Type': 'string', \n",
    "                                          'Action': 'string', 'order_code': 'string', 'Source_of_Action': 'string', \n",
    "                                          'URL': 'string', 'Citation': 'string', 'Percent_Capacity_Outdoor': 'string', \n",
    "                                          'Percent_Capacity_Indoor': 'string', 'Numeric_Capacity_Outdoor': 'string', \n",
    "                                          'Numeric_Capacity_Indoor': 'string', 'Limited_Open_Outdoor_Only': 'string', \n",
    "                                          'Limited_Open_General_Indoor': 'string'})\n",
    "\n",
    "# restaurant closures\n",
    "restaurant_orders = pd.read_csv(r_orders, dtype={'State_Tribe_Territory': 'string', 'County_Name': 'string', 'FIPS_State': int, \n",
    "                                          'FIPS_County': int, 'date': 'string', 'Business_Type': 'string', \n",
    "                                          'Action': 'string', 'order_code': int, 'Source_of_Action': 'string', \n",
    "                                          'URL': 'string', 'Citation': 'string', 'Percent_Capacity_Outdoor': 'string', \n",
    "                                          'Percent_Capacity_Indoor': 'string', 'Numeric_Capacity_Outdoor': 'string', \n",
    "                                          'Numeric_Capacity_Indoor': 'string', 'Limited_Open_Outdoor_Only': 'string', \n",
    "                                          'Limited_Open_General_Indoor': 'string'})\n",
    "\n",
    "# mask mandates\n",
    "mask_orders = pd.read_csv(m_orders, dtype={'State_Tribe_Territory': 'string', 'County_Name': 'string', 'FIPS_State': int,\n",
    "                                           'FIPS_County': int, 'date': 'string', 'Order_code': 'string', \n",
    "                                           'Face_Masks_Required_in_Public': 'string', 'Source_of_Action': 'string', \n",
    "                                           'URL': 'string', 'Citation': 'string'})\n",
    "\n",
    "# stay at home orders\n",
    "home_orders = pd.read_csv(h_orders, dtype={'State_Tribe_Territory': 'string', 'County_Name': 'string', 'FIPS_State': int,\n",
    "                                           'FIPS_County': int, 'date': 'string', 'Order_code': 'string', \n",
    "                                           'Stay_at_Home_Order_Recommendation': 'string', 'Express_Preemption': 'string', \n",
    "                                           'Source_of_Action': 'string', 'URL': 'string', 'Citation': 'string'})\n",
    "\n",
    "\n",
    "# lab tests for Influenza\n",
    "clinical_lab = pd.read_csv('../data/WHO_NREVSS_Clinical_Labs.csv')\n",
    "public_lab = pd.read_csv('../data/WHO_NREVSS_Public_Health_Labs.csv')\n",
    "early_data_10_15 = pd.read_csv('../data/WHO_NREVSS_Combined_prior_to_2015_16.csv')"
   ]
  },
  {
   "cell_type": "code",
   "execution_count": 3,
   "id": "d78f2b71",
   "metadata": {},
   "outputs": [
    {
     "data": {
      "text/plain": [
       "pandas.core.frame.DataFrame"
      ]
     },
     "execution_count": 3,
     "metadata": {},
     "output_type": "execute_result"
    }
   ],
   "source": [
    "type(gathering_orders)"
   ]
  },
  {
   "cell_type": "code",
   "execution_count": 4,
   "id": "ecc2d676",
   "metadata": {},
   "outputs": [
    {
     "data": {
      "text/plain": [
       "Index(['State_Tribe_Territory', 'County_Name', 'FIPS_State', 'FIPS_County',\n",
       "       'date', 'Business_Type', 'Action', 'order_code', 'Source_of_Action',\n",
       "       'URL', 'Citation', 'Percent_Capacity_Outdoor',\n",
       "       'Percent_Capacity_Indoor', 'Numeric_Capacity_Outdoor',\n",
       "       'Numeric_Capacity_Indoor', 'Limited_Open_Outdoor_Only',\n",
       "       'Limited_Open_General_Indoor'],\n",
       "      dtype='object')"
      ]
     },
     "execution_count": 4,
     "metadata": {},
     "output_type": "execute_result"
    }
   ],
   "source": [
    "bar_orders.columns"
   ]
  },
  {
   "cell_type": "code",
   "execution_count": 5,
   "id": "4de85775",
   "metadata": {},
   "outputs": [
    {
     "data": {
      "text/plain": [
       "Index(['State_Tribe_Territory', 'County_Name', 'FIPS_State', 'FIPS_County',\n",
       "       'date', 'Business_Type', 'Action', 'order_code', 'Source_of_Action',\n",
       "       'URL', 'Citation', 'Percent_Capacity_Outdoor',\n",
       "       'Percent_Capacity_Indoor', 'Numeric_Capacity_Outdoor',\n",
       "       'Numeric_Capacity_Indoor', 'Limited_Open_Outdoor_Only',\n",
       "       'Limited_Open_General_Indoor'],\n",
       "      dtype='object')"
      ]
     },
     "execution_count": 5,
     "metadata": {},
     "output_type": "execute_result"
    }
   ],
   "source": [
    "restaurant_orders.columns"
   ]
  },
  {
   "cell_type": "code",
   "execution_count": 6,
   "id": "7ef6d0a1",
   "metadata": {},
   "outputs": [
    {
     "data": {
      "text/plain": [
       "Index(['State_Tribe_Territory', 'County_Name', 'FIPS_State', 'FIPS_County',\n",
       "       'date', 'order_code', 'Face_Masks_Required_in_Public',\n",
       "       'Source_of_Action', 'URL', 'Citation'],\n",
       "      dtype='object')"
      ]
     },
     "execution_count": 6,
     "metadata": {},
     "output_type": "execute_result"
    }
   ],
   "source": [
    "mask_orders.columns"
   ]
  },
  {
   "cell_type": "code",
   "execution_count": 7,
   "id": "1d0efd81",
   "metadata": {},
   "outputs": [
    {
     "data": {
      "text/plain": [
       "Index(['State_Tribe_Territory', 'County_Name', 'FIPS_State', 'FIPS_County',\n",
       "       'date', 'Order_code', 'Stay_at_Home_Order_Recommendation',\n",
       "       'Express_Preemption', 'Source_of_Action', 'URL', 'Citation'],\n",
       "      dtype='object')"
      ]
     },
     "execution_count": 7,
     "metadata": {},
     "output_type": "execute_result"
    }
   ],
   "source": [
    "home_orders.columns"
   ]
  },
  {
   "cell_type": "code",
   "execution_count": 8,
   "id": "1d97f587",
   "metadata": {},
   "outputs": [],
   "source": [
    "gathering_orders.drop(gathering_orders.columns[[6, 8, 10, 11, 12]], axis =1, inplace = True)\n",
    "gathering_orders.head(3)\n",
    "\n",
    "gathering_orders.to_csv('../data/0gathering_orders.csv')"
   ]
  },
  {
   "cell_type": "code",
   "execution_count": 9,
   "id": "bebd2165",
   "metadata": {},
   "outputs": [
    {
     "data": {
      "text/plain": [
       "<StringArray>\n",
       "[                           'No order found',\n",
       "        'Ban of gatherings over 1-10 people',\n",
       "               'Bans gatherings of any size',\n",
       "       'Ban of gatherings over 11-25 people',\n",
       " 'Ban of gatherings over 101 or more people',\n",
       "       'Ban of gatherings over 26-50 people',\n",
       "      'Ban of gatherings over 51-100 people']\n",
       "Length: 7, dtype: string"
      ]
     },
     "execution_count": 9,
     "metadata": {},
     "output_type": "execute_result"
    }
   ],
   "source": [
    "gathering_orders.General_GB_order_group.unique()"
   ]
  },
  {
   "cell_type": "code",
   "execution_count": 10,
   "id": "b01ff33f",
   "metadata": {},
   "outputs": [
    {
     "data": {
      "text/plain": [
       "Index(['State_Tribe_Territory', 'County_Name', 'FIPS_State', 'FIPS_County',\n",
       "       'date', 'General_GB_order_group',\n",
       "       'General_or_Under_6ft_Bans_Gatherings_Over', 'Indoor_Outdoor'],\n",
       "      dtype='object')"
      ]
     },
     "execution_count": 10,
     "metadata": {},
     "output_type": "execute_result"
    }
   ],
   "source": [
    "gathering_orders.columns"
   ]
  },
  {
   "cell_type": "code",
   "execution_count": 11,
   "id": "c2239aeb",
   "metadata": {},
   "outputs": [],
   "source": [
    "bar_orders.drop(bar_orders.columns[[7, 8, 9, 10]], axis =1, inplace = True)\n",
    "bar_orders.head(3)\n",
    "\n",
    "bar_orders.to_csv('../data/0bar_orders.csv')"
   ]
  },
  {
   "cell_type": "code",
   "execution_count": 12,
   "id": "5fdd9104",
   "metadata": {},
   "outputs": [
    {
     "data": {
      "text/plain": [
       "<StringArray>\n",
       "[                                                             <NA>,\n",
       "                                 'Curbside/carryout/delivery only',\n",
       " 'Open with social distancing/reduced seating/enhanced sanitation',\n",
       "                                                          'Closed',\n",
       "                                      'Authorized to fully reopen']\n",
       "Length: 5, dtype: string"
      ]
     },
     "execution_count": 12,
     "metadata": {},
     "output_type": "execute_result"
    }
   ],
   "source": [
    "bar_orders.Action.unique()"
   ]
  },
  {
   "cell_type": "code",
   "execution_count": 13,
   "id": "a4eb64a1",
   "metadata": {},
   "outputs": [
    {
     "data": {
      "text/plain": [
       "<StringArray>\n",
       "[           <NA>, 'Not specified',           '33%',           '66%',\n",
       "           '50%',           '55%',           '60%',           '30%',\n",
       "          '100%',           '25%',           '75%', 'Not Specified',\n",
       "           '65%']\n",
       "Length: 13, dtype: string"
      ]
     },
     "execution_count": 13,
     "metadata": {},
     "output_type": "execute_result"
    }
   ],
   "source": [
    "bar_orders.Percent_Capacity_Outdoor.unique()"
   ]
  },
  {
   "cell_type": "code",
   "execution_count": 14,
   "id": "e840f9ba",
   "metadata": {},
   "outputs": [],
   "source": [
    "restaurant_orders.drop(restaurant_orders.columns[[7, 8, 9, 10]], axis =1, inplace = True)\n",
    "restaurant_orders.head(3)\n",
    "\n",
    "restaurant_orders.to_csv('../data/0restaurant_orders.csv')"
   ]
  },
  {
   "cell_type": "code",
   "execution_count": 15,
   "id": "d12d1f56",
   "metadata": {},
   "outputs": [],
   "source": [
    "mask_orders.drop(mask_orders.columns[[5, 7, 8, 9]], axis =1, inplace = True)\n",
    "mask_orders.head(3)\n",
    "\n",
    "mask_orders.to_csv('../data/0mask_orders.csv')"
   ]
  },
  {
   "cell_type": "code",
   "execution_count": 16,
   "id": "355cc7f1",
   "metadata": {},
   "outputs": [],
   "source": [
    "home_orders.drop(home_orders.columns[[5, 7, 8, 9, 10]], axis =1, inplace = True)\n",
    "home_orders.head(3)\n",
    "\n",
    "home_orders.to_csv('../data/0home_orders.csv')"
   ]
  },
  {
   "cell_type": "code",
   "execution_count": null,
   "id": "89b17d75",
   "metadata": {},
   "outputs": [],
   "source": []
  },
  {
   "cell_type": "code",
   "execution_count": null,
   "id": "e8fe59b3",
   "metadata": {},
   "outputs": [],
   "source": []
  },
  {
   "cell_type": "code",
   "execution_count": null,
   "id": "3fce8607",
   "metadata": {},
   "outputs": [],
   "source": []
  },
  {
   "cell_type": "code",
   "execution_count": null,
   "id": "54b4a160",
   "metadata": {},
   "outputs": [],
   "source": []
  },
  {
   "cell_type": "code",
   "execution_count": null,
   "id": "0eb9ce2c",
   "metadata": {},
   "outputs": [],
   "source": []
  },
  {
   "cell_type": "code",
   "execution_count": null,
   "id": "4158bed7",
   "metadata": {},
   "outputs": [],
   "source": []
  },
  {
   "cell_type": "code",
   "execution_count": null,
   "id": "b716993b",
   "metadata": {},
   "outputs": [],
   "source": []
  },
  {
   "cell_type": "code",
   "execution_count": null,
   "id": "9f1fb9fd",
   "metadata": {},
   "outputs": [],
   "source": []
  },
  {
   "cell_type": "code",
   "execution_count": null,
   "id": "5fdbd02f",
   "metadata": {},
   "outputs": [],
   "source": [
    "# two different dataframe types for mandates: group by state, and group by county (already done)"
   ]
  },
  {
   "cell_type": "code",
   "execution_count": null,
   "id": "88a2d273",
   "metadata": {},
   "outputs": [],
   "source": []
  }
 ],
 "metadata": {
  "kernelspec": {
   "display_name": "Python 3",
   "language": "python",
   "name": "python3"
  },
  "language_info": {
   "codemirror_mode": {
    "name": "ipython",
    "version": 3
   },
   "file_extension": ".py",
   "mimetype": "text/x-python",
   "name": "python",
   "nbconvert_exporter": "python",
   "pygments_lexer": "ipython3",
   "version": "3.8.8"
  }
 },
 "nbformat": 4,
 "nbformat_minor": 5
}
